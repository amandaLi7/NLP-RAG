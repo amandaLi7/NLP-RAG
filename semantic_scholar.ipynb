{
 "cells": [
  {
   "cell_type": "code",
   "execution_count": 192,
   "metadata": {},
   "outputs": [],
   "source": [
    "from semanticscholar import SemanticScholar\n",
    "import csv\n",
    "import requests\n",
    "import json\n",
    "import os\n",
    "from requests import Session\n",
    "from typing import Generator, Union\n",
    "API_KEY = os.getenv('S2APIKEY')"
   ]
  },
  {
   "cell_type": "markdown",
   "metadata": {},
   "source": [
    "### [Semantic Scholar API Calls](https://api.semanticscholar.org/api-docs/graph#tag/Paper-Data/operation/post_graph_get_papers)\n",
    "\n",
    "- Check their git for examples \n",
    "- out = sch.search_author(query=\"Graham Neubig\")\n",
    "  - then out[0] is a dict with keys dict_keys(['authorId', 'externalIds', 'url', 'name', 'affiliations', 'homepage', 'paperCount', 'citationCount', 'hIndex', 'papers'])\n",
    "    - out[0].papers[0] has dict_keys(['paperId', 'externalIds', 'corpusId', 'publicationVenue', 'url', 'title', 'abstract', 'venue', 'year', 'referenceCount', 'citationCount', 'influentialCitationCount', 'isOpenAccess', 'openAccessPdf', 'fieldsOfStudy', 's2FieldsOfStudy', 'publicationTypes', 'publicationDate', 'journal', 'authors'])\n",
    "\n",
    "        - out[0].papers[0].externalIds.keys() has dict_keys(['ArXiv', 'DBLP', 'DOI', 'CorpusId'])\n",
    "        - out[0].papers[0].publicationVenue.keys()dict_keys(['id', 'name', 'alternate_names', 'issn', 'url'])\n",
    "        - out[0].papers[0].journal.keys() dict_keys(['volume', 'name'])\n",
    "        - out[0].papers[0].authors[0] is a list of dicts \n",
    "- Eg:\n",
    "- [{'authorId': '2279677197', 'name': 'Abhika Mishra'}, {'authorId': '35584853', 'name': 'Akari Asai'}, {'authorId': '143820870', 'name': 'Vidhisha Balachandran'}]\n",
    "- if AttributeError for any of the out.atrributes then just skip that in adding \n"
   ]
  },
  {
   "cell_type": "code",
   "execution_count": null,
   "metadata": {},
   "outputs": [],
   "source": []
  },
  {
   "cell_type": "code",
   "execution_count": 191,
   "metadata": {},
   "outputs": [
    {
     "name": "stdout",
     "output_type": "stream",
     "text": [
      "Saved processed data to data/paper/processed_output/filtered_output_Graham Neubig_1700325.json\n"
     ]
    }
   ],
   "source": [
    "\n",
    "def fetch_and_process_author_papers(author_name:str, year:int, save_raw=False):\n",
    "    if not API_KEY:\n",
    "        raise EnvironmentError(\"S2_API_KEY environment variable not set.\")\n",
    "\n",
    "    # Set up the headers with the API key\n",
    "    headers = {\n",
    "        \"x-api-key\": API_KEY\n",
    "    }\n",
    "\n",
    "    # Get author ID \n",
    "    # another way SemanticScholar(api_key=API_KEY) sch= Semansch.search_author(query=\"author_name\")\n",
    "    search_response = requests.get(\n",
    "        'https://api.semanticscholar.org/graph/v1/author/search',\n",
    "        headers=headers,\n",
    "        params={'query': author_name}\n",
    "    )\n",
    "    if search_response.status_code != 200: # from their git\n",
    "        raise Exception(f\"Error finding author ID: {search_response.status_code}\")\n",
    "\n",
    "    author_id = search_response.json()['data'][0]['authorId']\n",
    "\n",
    "    # had to look these from the api documentation \n",
    "    fields = \"authorId,name,url,hIndex,affiliations,paperCount,citationCount\"\n",
    "    fields += \",papers.paperId,papers.title,papers.year,papers.url,papers.abstract,papers.authors\"\n",
    "    fields += \",papers.externalIds,papers.isOpenAccess,papers.openAccessPdf,papers.fieldsOfStudy\"\n",
    "    fields += \",papers.influentialCitationCount,papers.journal\"\n",
    "\n",
    "    response = requests.get( # following their git modules\n",
    "        f'https://api.semanticscholar.org/graph/v1/author/{author_id}',\n",
    "        headers=headers,\n",
    "        params={'fields': fields}\n",
    "    )\n",
    "\n",
    "    if response.status_code == 200:\n",
    "        author_data = response.json()\n",
    "\n",
    "        # Paths for saving jsons \n",
    "        raw_data_dir = 'data/paper/raw_output'\n",
    "        processed_data_dir = 'data/paper/processed_output'\n",
    "        raw_file_name = f'raw_output_{author_name}_{author_id}.json'\n",
    "        processed_file_name = f'filtered_output_{author_name}_{author_id}.json'\n",
    "\n",
    "        # If want to save the raw output\n",
    "        if save_raw:\n",
    "            os.makedirs(raw_data_dir, exist_ok=True)\n",
    "            raw_json_file_path = os.path.join(raw_data_dir, raw_file_name)\n",
    "            with open(raw_json_file_path, 'w') as raw_file:\n",
    "                json.dump(author_data, raw_file, indent=2)\n",
    "                print(f\"Saved raw data to {raw_json_file_path}\")\n",
    "\n",
    "        # Process and filter the data\n",
    "        filtered_papers = [\n",
    "            paper for paper in author_data.get('papers', [])\n",
    "            if str(paper.get('year')) == str(year) and paper.get('isOpenAccess')\n",
    "        ]\n",
    "\n",
    "        # Save the processed data\n",
    "        os.makedirs(processed_data_dir, exist_ok=True)\n",
    "        processed_json_file_path = os.path.join(processed_data_dir, processed_file_name)\n",
    "        with open(processed_json_file_path, 'w') as processed_file:\n",
    "            json.dump(filtered_papers, processed_file, indent=2)\n",
    "            print(f\"Saved processed data to {processed_json_file_path}\")\n",
    "    else:\n",
    "        print(f\"Error fetching author data: {response.status_code}\")\n",
    "        if response.text:\n",
    "            print(json.dumps(response.json(), indent=2))\n",
    "        else:\n",
    "            print(\"No additional error information is provided.\")"
   ]
  },
  {
   "cell_type": "code",
   "execution_count": 193,
   "metadata": {},
   "outputs": [],
   "source": [
    "for faculty in lti_faculty:\n",
    "    fetch_and_process_author_papers(author_name=faculty,year=2023, save_raw=False)\n"
   ]
  },
  {
   "cell_type": "code",
   "execution_count": null,
   "metadata": {},
   "outputs": [],
   "source": []
  },
  {
   "cell_type": "markdown",
   "metadata": {},
   "source": [
    "year\n"
   ]
  }
 ],
 "metadata": {
  "kernelspec": {
   "display_name": "llama_hw",
   "language": "python",
   "name": "python3"
  },
  "language_info": {
   "codemirror_mode": {
    "name": "ipython",
    "version": 3
   },
   "file_extension": ".py",
   "mimetype": "text/x-python",
   "name": "python",
   "nbconvert_exporter": "python",
   "pygments_lexer": "ipython3",
   "version": "3.11.7"
  }
 },
 "nbformat": 4,
 "nbformat_minor": 2
}

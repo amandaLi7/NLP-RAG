{
 "cells": [
  {
   "cell_type": "code",
   "execution_count": 1,
   "metadata": {},
   "outputs": [
    {
     "name": "stdout",
     "output_type": "stream",
     "text": [
      "\u001b[31mERROR: Could not find a version that satisfies the requirement faiss-gpu (from versions: none)\u001b[0m\u001b[31m\n",
      "\u001b[0m\u001b[31mERROR: No matching distribution found for faiss-gpu\u001b[0m\u001b[31m\n",
      "\u001b[0m"
     ]
    }
   ],
   "source": [
    "!pip install -q torch transformers transformers accelerate bitsandbytes langchain sentence-transformers faiss-gpu openpyxl"
   ]
  },
  {
   "cell_type": "code",
   "execution_count": 2,
   "metadata": {},
   "outputs": [
    {
     "name": "stdout",
     "output_type": "stream",
     "text": [
      "Requirement already satisfied: transformers==4.38.0 in /Users/amandali/anaconda3/lib/python3.11/site-packages (4.38.0)\n",
      "Requirement already satisfied: filelock in /Users/amandali/anaconda3/lib/python3.11/site-packages (from transformers==4.38.0) (3.0.12)\n",
      "Requirement already satisfied: huggingface-hub<1.0,>=0.19.3 in /Users/amandali/anaconda3/lib/python3.11/site-packages (from transformers==4.38.0) (0.20.3)\n",
      "Requirement already satisfied: numpy>=1.17 in /Users/amandali/anaconda3/lib/python3.11/site-packages (from transformers==4.38.0) (1.26.3)\n",
      "Requirement already satisfied: packaging>=20.0 in /Users/amandali/anaconda3/lib/python3.11/site-packages (from transformers==4.38.0) (23.2)\n",
      "Requirement already satisfied: pyyaml>=5.1 in /Users/amandali/anaconda3/lib/python3.11/site-packages (from transformers==4.38.0) (6.0)\n",
      "Requirement already satisfied: regex!=2019.12.17 in /Users/amandali/anaconda3/lib/python3.11/site-packages (from transformers==4.38.0) (2022.7.9)\n",
      "Requirement already satisfied: requests in /Users/amandali/anaconda3/lib/python3.11/site-packages (from transformers==4.38.0) (2.31.0)\n",
      "Requirement already satisfied: tokenizers<0.19,>=0.14 in /Users/amandali/anaconda3/lib/python3.11/site-packages (from transformers==4.38.0) (0.15.2)\n",
      "Requirement already satisfied: safetensors>=0.4.1 in /Users/amandali/anaconda3/lib/python3.11/site-packages (from transformers==4.38.0) (0.4.2)\n",
      "Requirement already satisfied: tqdm>=4.27 in /Users/amandali/anaconda3/lib/python3.11/site-packages (from transformers==4.38.0) (4.66.1)\n",
      "Requirement already satisfied: fsspec>=2023.5.0 in /Users/amandali/anaconda3/lib/python3.11/site-packages (from huggingface-hub<1.0,>=0.19.3->transformers==4.38.0) (2024.2.0)\n",
      "Requirement already satisfied: typing-extensions>=3.7.4.3 in /Users/amandali/anaconda3/lib/python3.11/site-packages (from huggingface-hub<1.0,>=0.19.3->transformers==4.38.0) (4.9.0)\n",
      "Requirement already satisfied: charset-normalizer<4,>=2 in /Users/amandali/anaconda3/lib/python3.11/site-packages (from requests->transformers==4.38.0) (3.3.2)\n",
      "Requirement already satisfied: idna<4,>=2.5 in /Users/amandali/anaconda3/lib/python3.11/site-packages (from requests->transformers==4.38.0) (3.4)\n",
      "Requirement already satisfied: urllib3<3,>=1.21.1 in /Users/amandali/anaconda3/lib/python3.11/site-packages (from requests->transformers==4.38.0) (2.2.1)\n",
      "Requirement already satisfied: certifi>=2017.4.17 in /Users/amandali/anaconda3/lib/python3.11/site-packages (from requests->transformers==4.38.0) (2024.2.2)\n",
      "Note: you may need to restart the kernel to use updated packages.\n"
     ]
    }
   ],
   "source": [
    "pip install -U \"transformers==4.38.0\" --upgrade"
   ]
  },
  {
   "cell_type": "code",
   "execution_count": 3,
   "metadata": {},
   "outputs": [
    {
     "name": "stdout",
     "output_type": "stream",
     "text": [
      "Requirement already satisfied: unstructured in /Users/amandali/anaconda3/lib/python3.11/site-packages (0.12.4)\n",
      "Requirement already satisfied: chardet in /Users/amandali/anaconda3/lib/python3.11/site-packages (from unstructured) (4.0.0)\n",
      "Requirement already satisfied: filetype in /Users/amandali/anaconda3/lib/python3.11/site-packages (from unstructured) (1.2.0)\n",
      "Requirement already satisfied: python-magic in /Users/amandali/anaconda3/lib/python3.11/site-packages (from unstructured) (0.4.27)\n",
      "Requirement already satisfied: lxml in /Users/amandali/anaconda3/lib/python3.11/site-packages (from unstructured) (4.9.3)\n",
      "Requirement already satisfied: nltk in /Users/amandali/anaconda3/lib/python3.11/site-packages (from unstructured) (3.8.1)\n",
      "Requirement already satisfied: tabulate in /Users/amandali/anaconda3/lib/python3.11/site-packages (from unstructured) (0.8.10)\n",
      "Requirement already satisfied: requests in /Users/amandali/anaconda3/lib/python3.11/site-packages (from unstructured) (2.31.0)\n",
      "Requirement already satisfied: beautifulsoup4 in /Users/amandali/anaconda3/lib/python3.11/site-packages (from unstructured) (4.12.2)\n",
      "Requirement already satisfied: emoji in /Users/amandali/anaconda3/lib/python3.11/site-packages (from unstructured) (2.10.1)\n",
      "Requirement already satisfied: dataclasses-json in /Users/amandali/anaconda3/lib/python3.11/site-packages (from unstructured) (0.6.4)\n",
      "Requirement already satisfied: python-iso639 in /Users/amandali/anaconda3/lib/python3.11/site-packages (from unstructured) (2024.2.7)\n",
      "Requirement already satisfied: langdetect in /Users/amandali/anaconda3/lib/python3.11/site-packages (from unstructured) (1.0.9)\n",
      "Requirement already satisfied: numpy in /Users/amandali/anaconda3/lib/python3.11/site-packages (from unstructured) (1.26.3)\n",
      "Requirement already satisfied: rapidfuzz in /Users/amandali/anaconda3/lib/python3.11/site-packages (from unstructured) (3.6.1)\n",
      "Requirement already satisfied: backoff in /Users/amandali/anaconda3/lib/python3.11/site-packages (from unstructured) (2.2.1)\n",
      "Requirement already satisfied: typing-extensions in /Users/amandali/anaconda3/lib/python3.11/site-packages (from unstructured) (4.9.0)\n",
      "Requirement already satisfied: unstructured-client>=0.15.1 in /Users/amandali/anaconda3/lib/python3.11/site-packages (from unstructured) (0.18.0)\n",
      "Requirement already satisfied: wrapt in /Users/amandali/anaconda3/lib/python3.11/site-packages (from unstructured) (1.14.1)\n",
      "Requirement already satisfied: certifi>=2023.7.22 in /Users/amandali/anaconda3/lib/python3.11/site-packages (from unstructured-client>=0.15.1->unstructured) (2024.2.2)\n",
      "Requirement already satisfied: charset-normalizer>=3.2.0 in /Users/amandali/anaconda3/lib/python3.11/site-packages (from unstructured-client>=0.15.1->unstructured) (3.3.2)\n",
      "Requirement already satisfied: dataclasses-json-speakeasy>=0.5.11 in /Users/amandali/anaconda3/lib/python3.11/site-packages (from unstructured-client>=0.15.1->unstructured) (0.5.11)\n",
      "Requirement already satisfied: idna>=3.4 in /Users/amandali/anaconda3/lib/python3.11/site-packages (from unstructured-client>=0.15.1->unstructured) (3.4)\n",
      "Requirement already satisfied: jsonpath-python>=1.0.6 in /Users/amandali/anaconda3/lib/python3.11/site-packages (from unstructured-client>=0.15.1->unstructured) (1.0.6)\n",
      "Requirement already satisfied: marshmallow>=3.19.0 in /Users/amandali/anaconda3/lib/python3.11/site-packages (from unstructured-client>=0.15.1->unstructured) (3.20.2)\n",
      "Requirement already satisfied: mypy-extensions>=1.0.0 in /Users/amandali/anaconda3/lib/python3.11/site-packages (from unstructured-client>=0.15.1->unstructured) (1.0.0)\n",
      "Requirement already satisfied: packaging>=23.1 in /Users/amandali/anaconda3/lib/python3.11/site-packages (from unstructured-client>=0.15.1->unstructured) (23.2)\n",
      "Requirement already satisfied: python-dateutil>=2.8.2 in /Users/amandali/anaconda3/lib/python3.11/site-packages (from unstructured-client>=0.15.1->unstructured) (2.8.2)\n",
      "Requirement already satisfied: six>=1.16.0 in /Users/amandali/anaconda3/lib/python3.11/site-packages (from unstructured-client>=0.15.1->unstructured) (1.16.0)\n",
      "Requirement already satisfied: typing-inspect>=0.9.0 in /Users/amandali/anaconda3/lib/python3.11/site-packages (from unstructured-client>=0.15.1->unstructured) (0.9.0)\n",
      "Requirement already satisfied: urllib3>=1.26.18 in /Users/amandali/anaconda3/lib/python3.11/site-packages (from unstructured-client>=0.15.1->unstructured) (2.2.1)\n",
      "Requirement already satisfied: soupsieve>1.2 in /Users/amandali/anaconda3/lib/python3.11/site-packages (from beautifulsoup4->unstructured) (2.4)\n",
      "Requirement already satisfied: click in /Users/amandali/anaconda3/lib/python3.11/site-packages (from nltk->unstructured) (8.0.4)\n",
      "Requirement already satisfied: joblib in /Users/amandali/anaconda3/lib/python3.11/site-packages (from nltk->unstructured) (1.2.0)\n",
      "Requirement already satisfied: regex>=2021.8.3 in /Users/amandali/anaconda3/lib/python3.11/site-packages (from nltk->unstructured) (2022.7.9)\n",
      "Requirement already satisfied: tqdm in /Users/amandali/anaconda3/lib/python3.11/site-packages (from nltk->unstructured) (4.66.1)\n"
     ]
    }
   ],
   "source": [
    "!pip install unstructured"
   ]
  },
  {
   "cell_type": "code",
   "execution_count": 4,
   "metadata": {},
   "outputs": [
    {
     "name": "stdout",
     "output_type": "stream",
     "text": [
      "Requirement already satisfied: torch in /Users/amandali/anaconda3/lib/python3.11/site-packages (2.1.2)\n",
      "Requirement already satisfied: filelock in /Users/amandali/anaconda3/lib/python3.11/site-packages (from torch) (3.0.12)\n",
      "Requirement already satisfied: typing-extensions in /Users/amandali/anaconda3/lib/python3.11/site-packages (from torch) (4.9.0)\n",
      "Requirement already satisfied: sympy in /Users/amandali/anaconda3/lib/python3.11/site-packages (from torch) (1.11.1)\n",
      "Requirement already satisfied: networkx in /Users/amandali/anaconda3/lib/python3.11/site-packages (from torch) (3.1)\n",
      "Requirement already satisfied: jinja2 in /Users/amandali/anaconda3/lib/python3.11/site-packages (from torch) (3.1.2)\n",
      "Requirement already satisfied: fsspec in /Users/amandali/anaconda3/lib/python3.11/site-packages (from torch) (2024.2.0)\n",
      "Requirement already satisfied: MarkupSafe>=2.0 in /Users/amandali/anaconda3/lib/python3.11/site-packages (from jinja2->torch) (2.1.1)\n",
      "Requirement already satisfied: mpmath>=0.19 in /Users/amandali/anaconda3/lib/python3.11/site-packages (from sympy->torch) (1.3.0)\n"
     ]
    }
   ],
   "source": [
    "!pip install torch"
   ]
  },
  {
   "cell_type": "code",
   "execution_count": 5,
   "metadata": {},
   "outputs": [],
   "source": [
    "# fix colab error: https://stackoverflow.com/questions/56081324/why-are-google-colab-shell-commands-not-working\n",
    "import locale\n",
    "def getpreferredencoding(do_setlocale = True):\n",
    "    return \"UTF-8\"\n",
    "locale.getpreferredencoding = getpreferredencoding"
   ]
  },
  {
   "cell_type": "code",
   "execution_count": 6,
   "metadata": {},
   "outputs": [
    {
     "name": "stdout",
     "output_type": "stream",
     "text": [
      "Requirement already satisfied: ragatouille in /Users/amandali/anaconda3/lib/python3.11/site-packages (0.0.7.post5)\n",
      "Requirement already satisfied: aiohttp==3.9.1 in /Users/amandali/anaconda3/lib/python3.11/site-packages (from ragatouille) (3.9.1)\n",
      "Requirement already satisfied: colbert-ai==0.2.19 in /Users/amandali/anaconda3/lib/python3.11/site-packages (from ragatouille) (0.2.19)\n",
      "Requirement already satisfied: faiss-cpu<2.0.0,>=1.7.4 in /Users/amandali/anaconda3/lib/python3.11/site-packages (from ragatouille) (1.7.4)\n",
      "Requirement already satisfied: langchain<0.2.0,>=0.1.0 in /Users/amandali/anaconda3/lib/python3.11/site-packages (from ragatouille) (0.1.9)\n",
      "Requirement already satisfied: langchain_core<0.2.0,>=0.1.4 in /Users/amandali/anaconda3/lib/python3.11/site-packages (from ragatouille) (0.1.26)\n",
      "Requirement already satisfied: llama-index<0.10.0,>=0.9.24 in /Users/amandali/anaconda3/lib/python3.11/site-packages (from ragatouille) (0.9.48)\n",
      "Requirement already satisfied: onnx<2.0.0,>=1.15.0 in /Users/amandali/anaconda3/lib/python3.11/site-packages (from ragatouille) (1.15.0)\n",
      "Requirement already satisfied: ruff<0.2.0,>=0.1.9 in /Users/amandali/anaconda3/lib/python3.11/site-packages (from ragatouille) (0.1.15)\n",
      "Requirement already satisfied: sentence-transformers<3.0.0,>=2.2.2 in /Users/amandali/anaconda3/lib/python3.11/site-packages (from ragatouille) (2.4.0)\n",
      "Requirement already satisfied: srsly==2.4.8 in /Users/amandali/anaconda3/lib/python3.11/site-packages (from ragatouille) (2.4.8)\n",
      "Requirement already satisfied: torch<3.0.0,>=2.0.1 in /Users/amandali/anaconda3/lib/python3.11/site-packages (from ragatouille) (2.1.2)\n",
      "Requirement already satisfied: transformers<5.0.0,>=4.36.2 in /Users/amandali/anaconda3/lib/python3.11/site-packages (from ragatouille) (4.38.0)\n",
      "Requirement already satisfied: voyager<3.0.0,>=2.0.2 in /Users/amandali/anaconda3/lib/python3.11/site-packages (from ragatouille) (2.0.2)\n",
      "Requirement already satisfied: attrs>=17.3.0 in /Users/amandali/anaconda3/lib/python3.11/site-packages (from aiohttp==3.9.1->ragatouille) (23.1.0)\n",
      "Requirement already satisfied: multidict<7.0,>=4.5 in /Users/amandali/anaconda3/lib/python3.11/site-packages (from aiohttp==3.9.1->ragatouille) (6.0.2)\n",
      "Requirement already satisfied: yarl<2.0,>=1.0 in /Users/amandali/anaconda3/lib/python3.11/site-packages (from aiohttp==3.9.1->ragatouille) (1.8.1)\n",
      "Requirement already satisfied: frozenlist>=1.1.1 in /Users/amandali/anaconda3/lib/python3.11/site-packages (from aiohttp==3.9.1->ragatouille) (1.3.3)\n",
      "Requirement already satisfied: aiosignal>=1.1.2 in /Users/amandali/anaconda3/lib/python3.11/site-packages (from aiohttp==3.9.1->ragatouille) (1.2.0)\n",
      "Requirement already satisfied: bitarray in /Users/amandali/anaconda3/lib/python3.11/site-packages (from colbert-ai==0.2.19->ragatouille) (2.9.2)\n",
      "Requirement already satisfied: datasets in /Users/amandali/anaconda3/lib/python3.11/site-packages (from colbert-ai==0.2.19->ragatouille) (2.12.0)\n",
      "Requirement already satisfied: flask in /Users/amandali/anaconda3/lib/python3.11/site-packages (from colbert-ai==0.2.19->ragatouille) (2.2.2)\n",
      "Requirement already satisfied: git-python in /Users/amandali/anaconda3/lib/python3.11/site-packages (from colbert-ai==0.2.19->ragatouille) (1.0.3)\n",
      "Requirement already satisfied: python-dotenv in /Users/amandali/anaconda3/lib/python3.11/site-packages (from colbert-ai==0.2.19->ragatouille) (0.21.0)\n",
      "Requirement already satisfied: ninja in /Users/amandali/anaconda3/lib/python3.11/site-packages (from colbert-ai==0.2.19->ragatouille) (1.11.1.1)\n",
      "Requirement already satisfied: scipy in /Users/amandali/anaconda3/lib/python3.11/site-packages (from colbert-ai==0.2.19->ragatouille) (1.11.1)\n",
      "Requirement already satisfied: tqdm in /Users/amandali/anaconda3/lib/python3.11/site-packages (from colbert-ai==0.2.19->ragatouille) (4.66.1)\n",
      "Requirement already satisfied: ujson in /Users/amandali/anaconda3/lib/python3.11/site-packages (from colbert-ai==0.2.19->ragatouille) (5.4.0)\n",
      "Requirement already satisfied: catalogue<2.1.0,>=2.0.3 in /Users/amandali/anaconda3/lib/python3.11/site-packages (from srsly==2.4.8->ragatouille) (2.0.10)\n",
      "Requirement already satisfied: PyYAML>=5.3 in /Users/amandali/anaconda3/lib/python3.11/site-packages (from langchain<0.2.0,>=0.1.0->ragatouille) (6.0)\n",
      "Requirement already satisfied: SQLAlchemy<3,>=1.4 in /Users/amandali/anaconda3/lib/python3.11/site-packages (from langchain<0.2.0,>=0.1.0->ragatouille) (2.0.27)\n",
      "Requirement already satisfied: dataclasses-json<0.7,>=0.5.7 in /Users/amandali/anaconda3/lib/python3.11/site-packages (from langchain<0.2.0,>=0.1.0->ragatouille) (0.6.4)\n",
      "Requirement already satisfied: jsonpatch<2.0,>=1.33 in /Users/amandali/anaconda3/lib/python3.11/site-packages (from langchain<0.2.0,>=0.1.0->ragatouille) (1.33)\n",
      "Requirement already satisfied: langchain-community<0.1,>=0.0.21 in /Users/amandali/anaconda3/lib/python3.11/site-packages (from langchain<0.2.0,>=0.1.0->ragatouille) (0.0.24)\n",
      "Requirement already satisfied: langsmith<0.2.0,>=0.1.0 in /Users/amandali/anaconda3/lib/python3.11/site-packages (from langchain<0.2.0,>=0.1.0->ragatouille) (0.1.7)\n",
      "Requirement already satisfied: numpy<2,>=1 in /Users/amandali/anaconda3/lib/python3.11/site-packages (from langchain<0.2.0,>=0.1.0->ragatouille) (1.26.3)\n",
      "Requirement already satisfied: pydantic<3,>=1 in /Users/amandali/anaconda3/lib/python3.11/site-packages (from langchain<0.2.0,>=0.1.0->ragatouille) (1.10.8)\n",
      "Requirement already satisfied: requests<3,>=2 in /Users/amandali/anaconda3/lib/python3.11/site-packages (from langchain<0.2.0,>=0.1.0->ragatouille) (2.31.0)\n",
      "Requirement already satisfied: tenacity<9.0.0,>=8.1.0 in /Users/amandali/anaconda3/lib/python3.11/site-packages (from langchain<0.2.0,>=0.1.0->ragatouille) (8.2.3)\n",
      "Requirement already satisfied: anyio<5,>=3 in /Users/amandali/anaconda3/lib/python3.11/site-packages (from langchain_core<0.2.0,>=0.1.4->ragatouille) (3.5.0)\n",
      "Requirement already satisfied: packaging<24.0,>=23.2 in /Users/amandali/anaconda3/lib/python3.11/site-packages (from langchain_core<0.2.0,>=0.1.4->ragatouille) (23.2)\n",
      "Requirement already satisfied: deprecated>=1.2.9.3 in /Users/amandali/anaconda3/lib/python3.11/site-packages (from llama-index<0.10.0,>=0.9.24->ragatouille) (1.2.14)\n",
      "Requirement already satisfied: dirtyjson<2.0.0,>=1.0.8 in /Users/amandali/anaconda3/lib/python3.11/site-packages (from llama-index<0.10.0,>=0.9.24->ragatouille) (1.0.8)\n",
      "Requirement already satisfied: fsspec>=2023.5.0 in /Users/amandali/anaconda3/lib/python3.11/site-packages (from llama-index<0.10.0,>=0.9.24->ragatouille) (2024.2.0)\n",
      "Requirement already satisfied: httpx in /Users/amandali/anaconda3/lib/python3.11/site-packages (from llama-index<0.10.0,>=0.9.24->ragatouille) (0.27.0)\n",
      "Requirement already satisfied: nest-asyncio<2.0.0,>=1.5.8 in /Users/amandali/anaconda3/lib/python3.11/site-packages (from llama-index<0.10.0,>=0.9.24->ragatouille) (1.6.0)\n",
      "Requirement already satisfied: networkx>=3.0 in /Users/amandali/anaconda3/lib/python3.11/site-packages (from llama-index<0.10.0,>=0.9.24->ragatouille) (3.1)\n",
      "Requirement already satisfied: nltk<4.0.0,>=3.8.1 in /Users/amandali/anaconda3/lib/python3.11/site-packages (from llama-index<0.10.0,>=0.9.24->ragatouille) (3.8.1)\n",
      "Requirement already satisfied: openai>=1.1.0 in /Users/amandali/anaconda3/lib/python3.11/site-packages (from llama-index<0.10.0,>=0.9.24->ragatouille) (1.12.0)\n",
      "Requirement already satisfied: pandas in /Users/amandali/anaconda3/lib/python3.11/site-packages (from llama-index<0.10.0,>=0.9.24->ragatouille) (2.0.3)\n",
      "Requirement already satisfied: tiktoken>=0.3.3 in /Users/amandali/anaconda3/lib/python3.11/site-packages (from llama-index<0.10.0,>=0.9.24->ragatouille) (0.6.0)\n",
      "Requirement already satisfied: typing-extensions>=4.5.0 in /Users/amandali/anaconda3/lib/python3.11/site-packages (from llama-index<0.10.0,>=0.9.24->ragatouille) (4.9.0)\n",
      "Requirement already satisfied: typing-inspect>=0.8.0 in /Users/amandali/anaconda3/lib/python3.11/site-packages (from llama-index<0.10.0,>=0.9.24->ragatouille) (0.9.0)\n",
      "Requirement already satisfied: protobuf>=3.20.2 in /Users/amandali/anaconda3/lib/python3.11/site-packages (from onnx<2.0.0,>=1.15.0->ragatouille) (4.25.3)\n",
      "Requirement already satisfied: scikit-learn in /Users/amandali/anaconda3/lib/python3.11/site-packages (from sentence-transformers<3.0.0,>=2.2.2->ragatouille) (1.2.2)\n",
      "Requirement already satisfied: huggingface-hub>=0.15.1 in /Users/amandali/anaconda3/lib/python3.11/site-packages (from sentence-transformers<3.0.0,>=2.2.2->ragatouille) (0.20.3)\n",
      "Requirement already satisfied: Pillow in /Users/amandali/anaconda3/lib/python3.11/site-packages (from sentence-transformers<3.0.0,>=2.2.2->ragatouille) (9.4.0)\n",
      "Requirement already satisfied: filelock in /Users/amandali/anaconda3/lib/python3.11/site-packages (from torch<3.0.0,>=2.0.1->ragatouille) (3.0.12)\n",
      "Requirement already satisfied: sympy in /Users/amandali/anaconda3/lib/python3.11/site-packages (from torch<3.0.0,>=2.0.1->ragatouille) (1.11.1)\n",
      "Requirement already satisfied: jinja2 in /Users/amandali/anaconda3/lib/python3.11/site-packages (from torch<3.0.0,>=2.0.1->ragatouille) (3.1.2)\n",
      "Requirement already satisfied: regex!=2019.12.17 in /Users/amandali/anaconda3/lib/python3.11/site-packages (from transformers<5.0.0,>=4.36.2->ragatouille) (2022.7.9)\n",
      "Requirement already satisfied: tokenizers<0.19,>=0.14 in /Users/amandali/anaconda3/lib/python3.11/site-packages (from transformers<5.0.0,>=4.36.2->ragatouille) (0.15.2)\n",
      "Requirement already satisfied: safetensors>=0.4.1 in /Users/amandali/anaconda3/lib/python3.11/site-packages (from transformers<5.0.0,>=4.36.2->ragatouille) (0.4.2)\n",
      "Requirement already satisfied: idna>=2.8 in /Users/amandali/anaconda3/lib/python3.11/site-packages (from anyio<5,>=3->langchain_core<0.2.0,>=0.1.4->ragatouille) (3.4)\n",
      "Requirement already satisfied: sniffio>=1.1 in /Users/amandali/anaconda3/lib/python3.11/site-packages (from anyio<5,>=3->langchain_core<0.2.0,>=0.1.4->ragatouille) (1.2.0)\n",
      "Requirement already satisfied: marshmallow<4.0.0,>=3.18.0 in /Users/amandali/anaconda3/lib/python3.11/site-packages (from dataclasses-json<0.7,>=0.5.7->langchain<0.2.0,>=0.1.0->ragatouille) (3.20.2)\n",
      "Requirement already satisfied: wrapt<2,>=1.10 in /Users/amandali/anaconda3/lib/python3.11/site-packages (from deprecated>=1.2.9.3->llama-index<0.10.0,>=0.9.24->ragatouille) (1.14.1)\n",
      "Requirement already satisfied: jsonpointer>=1.9 in /Users/amandali/anaconda3/lib/python3.11/site-packages (from jsonpatch<2.0,>=1.33->langchain<0.2.0,>=0.1.0->ragatouille) (2.1)\n",
      "Requirement already satisfied: orjson<4.0.0,>=3.9.14 in /Users/amandali/anaconda3/lib/python3.11/site-packages (from langsmith<0.2.0,>=0.1.0->langchain<0.2.0,>=0.1.0->ragatouille) (3.9.15)\n",
      "Requirement already satisfied: click in /Users/amandali/anaconda3/lib/python3.11/site-packages (from nltk<4.0.0,>=3.8.1->llama-index<0.10.0,>=0.9.24->ragatouille) (8.0.4)\n",
      "Requirement already satisfied: joblib in /Users/amandali/anaconda3/lib/python3.11/site-packages (from nltk<4.0.0,>=3.8.1->llama-index<0.10.0,>=0.9.24->ragatouille) (1.2.0)\n",
      "Requirement already satisfied: distro<2,>=1.7.0 in /Users/amandali/anaconda3/lib/python3.11/site-packages (from openai>=1.1.0->llama-index<0.10.0,>=0.9.24->ragatouille) (1.9.0)\n",
      "Requirement already satisfied: certifi in /Users/amandali/anaconda3/lib/python3.11/site-packages (from httpx->llama-index<0.10.0,>=0.9.24->ragatouille) (2024.2.2)\n",
      "Requirement already satisfied: httpcore==1.* in /Users/amandali/anaconda3/lib/python3.11/site-packages (from httpx->llama-index<0.10.0,>=0.9.24->ragatouille) (1.0.4)\n",
      "Requirement already satisfied: h11<0.15,>=0.13 in /Users/amandali/anaconda3/lib/python3.11/site-packages (from httpcore==1.*->httpx->llama-index<0.10.0,>=0.9.24->ragatouille) (0.14.0)\n",
      "Requirement already satisfied: charset-normalizer<4,>=2 in /Users/amandali/anaconda3/lib/python3.11/site-packages (from requests<3,>=2->langchain<0.2.0,>=0.1.0->ragatouille) (3.3.2)\n",
      "Requirement already satisfied: urllib3<3,>=1.21.1 in /Users/amandali/anaconda3/lib/python3.11/site-packages (from requests<3,>=2->langchain<0.2.0,>=0.1.0->ragatouille) (2.2.1)\n",
      "Requirement already satisfied: greenlet!=0.4.17 in /Users/amandali/anaconda3/lib/python3.11/site-packages (from SQLAlchemy<3,>=1.4->langchain<0.2.0,>=0.1.0->ragatouille) (2.0.1)\n",
      "Requirement already satisfied: mypy-extensions>=0.3.0 in /Users/amandali/anaconda3/lib/python3.11/site-packages (from typing-inspect>=0.8.0->llama-index<0.10.0,>=0.9.24->ragatouille) (1.0.0)\n",
      "Requirement already satisfied: pyarrow>=8.0.0 in /Users/amandali/anaconda3/lib/python3.11/site-packages (from datasets->colbert-ai==0.2.19->ragatouille) (11.0.0)\n",
      "Requirement already satisfied: dill<0.3.7,>=0.3.0 in /Users/amandali/anaconda3/lib/python3.11/site-packages (from datasets->colbert-ai==0.2.19->ragatouille) (0.3.6)\n",
      "Requirement already satisfied: xxhash in /Users/amandali/anaconda3/lib/python3.11/site-packages (from datasets->colbert-ai==0.2.19->ragatouille) (2.0.2)\n",
      "Requirement already satisfied: multiprocess in /Users/amandali/anaconda3/lib/python3.11/site-packages (from datasets->colbert-ai==0.2.19->ragatouille) (0.70.14)\n",
      "Requirement already satisfied: responses<0.19 in /Users/amandali/anaconda3/lib/python3.11/site-packages (from datasets->colbert-ai==0.2.19->ragatouille) (0.13.3)\n",
      "Requirement already satisfied: Werkzeug>=2.2.2 in /Users/amandali/anaconda3/lib/python3.11/site-packages (from flask->colbert-ai==0.2.19->ragatouille) (2.2.3)\n",
      "Requirement already satisfied: itsdangerous>=2.0 in /Users/amandali/anaconda3/lib/python3.11/site-packages (from flask->colbert-ai==0.2.19->ragatouille) (2.0.1)\n",
      "Requirement already satisfied: MarkupSafe>=2.0 in /Users/amandali/anaconda3/lib/python3.11/site-packages (from jinja2->torch<3.0.0,>=2.0.1->ragatouille) (2.1.1)\n",
      "Requirement already satisfied: gitpython in /Users/amandali/anaconda3/lib/python3.11/site-packages (from git-python->colbert-ai==0.2.19->ragatouille) (3.1.42)\n",
      "Requirement already satisfied: python-dateutil>=2.8.2 in /Users/amandali/anaconda3/lib/python3.11/site-packages (from pandas->llama-index<0.10.0,>=0.9.24->ragatouille) (2.8.2)\n",
      "Requirement already satisfied: pytz>=2020.1 in /Users/amandali/anaconda3/lib/python3.11/site-packages (from pandas->llama-index<0.10.0,>=0.9.24->ragatouille) (2023.3.post1)\n",
      "Requirement already satisfied: tzdata>=2022.1 in /Users/amandali/anaconda3/lib/python3.11/site-packages (from pandas->llama-index<0.10.0,>=0.9.24->ragatouille) (2023.3)\n",
      "Requirement already satisfied: threadpoolctl>=2.0.0 in /Users/amandali/anaconda3/lib/python3.11/site-packages (from scikit-learn->sentence-transformers<3.0.0,>=2.2.2->ragatouille) (2.2.0)\n",
      "Requirement already satisfied: mpmath>=0.19 in /Users/amandali/anaconda3/lib/python3.11/site-packages (from sympy->torch<3.0.0,>=2.0.1->ragatouille) (1.3.0)\n",
      "Requirement already satisfied: six>=1.5 in /Users/amandali/anaconda3/lib/python3.11/site-packages (from python-dateutil>=2.8.2->pandas->llama-index<0.10.0,>=0.9.24->ragatouille) (1.16.0)\n",
      "Requirement already satisfied: gitdb<5,>=4.0.1 in /Users/amandali/anaconda3/lib/python3.11/site-packages (from gitpython->git-python->colbert-ai==0.2.19->ragatouille) (4.0.11)\n",
      "Requirement already satisfied: smmap<6,>=3.0.1 in /Users/amandali/anaconda3/lib/python3.11/site-packages (from gitdb<5,>=4.0.1->gitpython->git-python->colbert-ai==0.2.19->ragatouille) (5.0.1)\n"
     ]
    }
   ],
   "source": [
    "!pip install ragatouille"
   ]
  },
  {
   "cell_type": "code",
   "execution_count": 7,
   "metadata": {},
   "outputs": [],
   "source": [
    "from tqdm.notebook import tqdm\n",
    "import pandas as pd\n",
    "from typing import Optional, List, Tuple\n",
    "import matplotlib.pyplot as plt\n",
    "\n",
    "pd.set_option(\n",
    "    \"display.max_colwidth\", None\n",
    ")"
   ]
  },
  {
   "cell_type": "code",
   "execution_count": 8,
   "metadata": {},
   "outputs": [],
   "source": [
    "from langchain.docstore.document import Document as LangchainDocument\n",
    "from langchain_community.document_loaders import DirectoryLoader\n",
    "from langchain.text_splitter import RecursiveCharacterTextSplitter"
   ]
  },
  {
   "cell_type": "code",
   "execution_count": 10,
   "metadata": {},
   "outputs": [
    {
     "data": {
      "text/plain": [
       "13"
      ]
     },
     "execution_count": 10,
     "metadata": {},
     "output_type": "execute_result"
    }
   ],
   "source": [
    "webpages = 'data/webpages'\n",
    "# https://python.langchain.com/docs/modules/data_connection/document_loaders/file_directory\n",
    "\n",
    "loader = DirectoryLoader('data/webpages/', glob=\"**/*.txt\")\n",
    "docs = loader.load()\n",
    "len(docs)"
   ]
  },
  {
   "cell_type": "code",
   "execution_count": 16,
   "metadata": {},
   "outputs": [
    {
     "data": {
      "text/plain": [
       "8"
      ]
     },
     "execution_count": 16,
     "metadata": {},
     "output_type": "execute_result"
    }
   ],
   "source": [
    "loader = DirectoryLoader('data/cleaned_other/', glob=\"**/*.txt\")\n",
    "docs = loader.load()\n",
    "len(docs)"
   ]
  },
  {
   "cell_type": "code",
   "execution_count": null,
   "metadata": {},
   "outputs": [],
   "source": [
    "loader = DirectoryLoader('data/webpages/', glob=\"**/*.txt\")\n",
    "docs = loader.load()\n",
    "len(docs)"
   ]
  },
  {
   "cell_type": "code",
   "execution_count": 11,
   "metadata": {},
   "outputs": [],
   "source": [
    "from langchain.text_splitter import RecursiveCharacterTextSplitter\n",
    "from transformers import AutoTokenizer\n",
    "\n",
    "EMBEDDING_MODEL_NAME = \"thenlper/gte-base\"\n",
    "\n",
    "\n",
    "def split_documents(\n",
    "    chunk_size: int,\n",
    "    knowledge_base: List[LangchainDocument],\n",
    "    chunk_overlap: int = None,\n",
    "    tokenizer_name: Optional[str] = EMBEDDING_MODEL_NAME,\n",
    ") -> List[LangchainDocument]:\n",
    "    \"\"\"\n",
    "    Split documents into chunks of maximum size `chunk_size` tokens and return a list of documents.\n",
    "    \"\"\"\n",
    "\n",
    "    if chunk_overlap is not None:\n",
    "      chunk_overlap = chunk_overlap\n",
    "    else:\n",
    "      chunk_overlap=int(chunk_size / 10),\n",
    "\n",
    "    text_splitter = RecursiveCharacterTextSplitter.from_huggingface_tokenizer(\n",
    "        AutoTokenizer.from_pretrained(tokenizer_name),\n",
    "        chunk_size=chunk_size,\n",
    "        chunk_overlap=chunk_overlap,\n",
    "        add_start_index=True,\n",
    "        strip_whitespace=True,\n",
    "    )\n",
    "\n",
    "    docs_processed = []\n",
    "    for doc in knowledge_base:\n",
    "        docs_processed += text_splitter.split_documents([doc])\n",
    "\n",
    "    # Remove duplicates\n",
    "    unique_texts = {}\n",
    "    docs_processed_unique = []\n",
    "    for doc in docs_processed:\n",
    "        if doc.page_content not in unique_texts:\n",
    "            unique_texts[doc.page_content] = True\n",
    "            docs_processed_unique.append(doc)\n",
    "\n",
    "    return docs_processed_unique\n"
   ]
  },
  {
   "cell_type": "code",
   "execution_count": null,
   "metadata": {},
   "outputs": [],
   "source": [
    "docs_processed = split_documents(\n",
    "    chunk_size = 512,\n",
    "    chunk_overlap = 50,\n",
    "    knowledge_base = docs,\n",
    "    tokenizer_name=EMBEDDING_MODEL_NAME,\n",
    ")\n",
    "\n",
    "\n",
    "tokenizer = AutoTokenizer.from_pretrained(EMBEDDING_MODEL_NAME)\n",
    "lengths = [len(tokenizer.encode(doc.page_content)) for doc in tqdm(docs_processed)]\n",
    "fig = pd.Series(lengths).hist()\n",
    "plt.title(\"Distribution of document lengths in the knowledge base (in count of tokens)\")\n",
    "plt.show()"
   ]
  },
  {
   "cell_type": "markdown",
   "metadata": {},
   "source": [
    "Creating vector db and then storing it locally into folder `faiss_index`"
   ]
  },
  {
   "cell_type": "code",
   "execution_count": 13,
   "metadata": {},
   "outputs": [
    {
     "name": "stderr",
     "output_type": "stream",
     "text": [
      "huggingface/tokenizers: The current process just got forked, after parallelism has already been used. Disabling parallelism to avoid deadlocks...\n",
      "To disable this warning, you can either:\n",
      "\t- Avoid using `tokenizers` before the fork if possible\n",
      "\t- Explicitly set the environment variable TOKENIZERS_PARALLELISM=(true | false)\n",
      "huggingface/tokenizers: The current process just got forked, after parallelism has already been used. Disabling parallelism to avoid deadlocks...\n",
      "To disable this warning, you can either:\n",
      "\t- Avoid using `tokenizers` before the fork if possible\n",
      "\t- Explicitly set the environment variable TOKENIZERS_PARALLELISM=(true | false)\n",
      "huggingface/tokenizers: The current process just got forked, after parallelism has already been used. Disabling parallelism to avoid deadlocks...\n",
      "To disable this warning, you can either:\n",
      "\t- Avoid using `tokenizers` before the fork if possible\n",
      "\t- Explicitly set the environment variable TOKENIZERS_PARALLELISM=(true | false)\n",
      "huggingface/tokenizers: The current process just got forked, after parallelism has already been used. Disabling parallelism to avoid deadlocks...\n",
      "To disable this warning, you can either:\n",
      "\t- Avoid using `tokenizers` before the fork if possible\n",
      "\t- Explicitly set the environment variable TOKENIZERS_PARALLELISM=(true | false)\n",
      "huggingface/tokenizers: The current process just got forked, after parallelism has already been used. Disabling parallelism to avoid deadlocks...\n",
      "To disable this warning, you can either:\n",
      "\t- Avoid using `tokenizers` before the fork if possible\n",
      "\t- Explicitly set the environment variable TOKENIZERS_PARALLELISM=(true | false)\n"
     ]
    }
   ],
   "source": [
    "from langchain.vectorstores import FAISS\n",
    "from langchain_community.embeddings import HuggingFaceEmbeddings\n",
    "from langchain_community.vectorstores.utils import DistanceStrategy\n",
    "\n",
    "EMBEDDING_MODEL_NAME = \"thenlper/gte-base\"\n",
    "\n",
    "embedding_model = HuggingFaceEmbeddings(\n",
    "    model_name=EMBEDDING_MODEL_NAME,\n",
    "    multi_process=True,\n",
    "    # model_kwargs={\"device\": \"cuda\"},\n",
    "    encode_kwargs={\"normalize_embeddings\": True},  #  True for cosine similarity\n",
    ")\n",
    "\n",
    "KNOWLEDGE_VECTOR_DATABASE = FAISS.from_documents(\n",
    "    docs_processed, embedding_model, distance_strategy=DistanceStrategy.COSINE\n",
    ")"
   ]
  },
  {
   "cell_type": "code",
   "execution_count": 14,
   "metadata": {},
   "outputs": [],
   "source": [
    "KNOWLEDGE_VECTOR_DATABASE.save_local(\"faiss_index\")"
   ]
  },
  {
   "cell_type": "code",
   "execution_count": null,
   "metadata": {},
   "outputs": [],
   "source": []
  }
 ],
 "metadata": {
  "kernelspec": {
   "display_name": "base",
   "language": "python",
   "name": "python3"
  },
  "language_info": {
   "codemirror_mode": {
    "name": "ipython",
    "version": 3
   },
   "file_extension": ".py",
   "mimetype": "text/x-python",
   "name": "python",
   "nbconvert_exporter": "python",
   "pygments_lexer": "ipython3",
   "version": "3.11.5"
  }
 },
 "nbformat": 4,
 "nbformat_minor": 2
}

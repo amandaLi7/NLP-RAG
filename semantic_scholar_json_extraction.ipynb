{
 "cells": [
  {
   "cell_type": "code",
   "execution_count": 9,
   "metadata": {},
   "outputs": [],
   "source": [
    "import csv\n",
    "import requests\n",
    "import json\n",
    "import sys\n",
    "from requests import Session\n",
    "from typing import Generator, Union\n",
    "from requests import Session\n",
    "import subprocess\n",
    "import pandas as pd\n",
    "import logging \n",
    "import numpy as np\n",
    "import os"
   ]
  },
  {
   "cell_type": "code",
   "execution_count": 10,
   "metadata": {},
   "outputs": [],
   "source": [
    "base_dir = 'data/paper_jsons'"
   ]
  },
  {
   "cell_type": "code",
   "execution_count": 4,
   "metadata": {},
   "outputs": [
    {
     "name": "stdout",
     "output_type": "stream",
     "text": [
      "['A. Lavie_1784914.json', 'Alexander Hauptmann_7661726_145788702.json', 'Alexander I. Rudnicky_1783635_3156164.json', 'Alexander Waibel_2064429921_1724972.json', 'B. MacWhinney_2414040.json', 'B. Raj_1681921.json', 'C. Rosé_35959897.json', 'Chenyan Xiong_144628574.json', 'Chenyan Xiong_144628574_2139787803.json', 'Chenyan Xiong_2139787803.json', 'Daniel Fried_47070750.json', 'Daphne Ippolito_7975935.json', 'David R. Mortensen_3407646.json', 'E. Xing_143977260.json', 'Emma Strubell_2268272.json', 'Eric Nyberg_144287919.json', 'Fernando Diaz_145472333.json', 'Graham Neubig_1700325.json', 'Jamie Callan_144987107.json', 'Jeffrey P. Bigham_1744846.json', 'Justine Cassell_145431806.json', 'Lei Li_143900005.json', 'Lori S. Levin_1686960.json', 'Louis-Philippe Morency_49933077.json', 'Lu Jiang_39978626.json', 'M. Ganapathiraju_32747279.json', 'Maarten Sap_2729164.json', 'Malihe Alikhani_2715920.json', 'Matthew R. Gormley_1762110.json', 'Matthias Grabmair_2869551.json', 'Mona T. Diab_1700007_2138579860.json', 'N. Sadeh_2464164.json', 'R. Stern_1697819.json', 'Rita Singh_153915824.json', 'Roni Rosenfeld_88507334.json', 'S. Fahlman_1758714.json', 'S. Welleck_2129663.json', 'Shinji Watanabe_1746678.json', 'T. Mitamura_1706595.json', 'Taylor Berg-Kirkpatrick_1400419309.json', 'Tom Michael Mitchell_40975594.json', 'William W. Cohen_50056360.json', 'Yiming Yang_46286308_35729970.json', 'Yonatan Bisk_3312309.json', 'Yulia Tsetkov_2073587169_145317727.json']\n",
      "45\n"
     ]
    }
   ],
   "source": [
    "json_files = [pos_json for pos_json in os.listdir(base_dir) if pos_json.endswith('.json')]\n",
    "json_files.sort()\n",
    "print(json_files)\n",
    "print(len(json_files))"
   ]
  },
  {
   "cell_type": "code",
   "execution_count": 11,
   "metadata": {},
   "outputs": [
    {
     "data": {
      "text/plain": [
       "Index(['profName', 'authorId', 'authorName', 'authorUrl', 'authorHIndex',\n",
       "       'authorAffiliations', 'authorPaperCount', 'authorCitationCount',\n",
       "       'paperId', 'externalIds', 'url', 'title', 'abstract', 'venue', 'year',\n",
       "       'referenceCount', 'citationCount', 'influentialCitationCount',\n",
       "       'isOpenAccess', 'openAccessPdf', 'fieldsOfStudy', 'journal', 'authors'],\n",
       "      dtype='object')"
      ]
     },
     "execution_count": 11,
     "metadata": {},
     "output_type": "execute_result"
    }
   ],
   "source": [
    "df = pd.read_json(f'{base_dir}/{json_files[1]}')\n",
    "df.columns"
   ]
  },
  {
   "cell_type": "code",
   "execution_count": 12,
   "metadata": {},
   "outputs": [
    {
     "data": {
      "text/plain": [
       "{7661726, 145788702}"
      ]
     },
     "execution_count": 12,
     "metadata": {},
     "output_type": "execute_result"
    }
   ],
   "source": [
    "# what is the author id of this professor?\n",
    "set(df.authorId)"
   ]
  },
  {
   "cell_type": "code",
   "execution_count": 13,
   "metadata": {},
   "outputs": [
    {
     "data": {
      "text/plain": [
       "('https://aclanthology.org/2023.findings-acl.198.pdf',\n",
       " 'https://www.semanticscholar.org/paper/72cce47fd053bf916314d89a8174726c58c05e02')"
      ]
     },
     "execution_count": 13,
     "metadata": {},
     "output_type": "execute_result"
    }
   ],
   "source": [
    "# how to get the url \n",
    "list(df.openAccessPdf[0].values())[0], df.url[0]"
   ]
  },
  {
   "cell_type": "code",
   "execution_count": 14,
   "metadata": {},
   "outputs": [
    {
     "data": {
      "text/plain": [
       "81"
      ]
     },
     "execution_count": 14,
     "metadata": {},
     "output_type": "execute_result"
    }
   ],
   "source": [
    "# What is the H-index of Professor X?\n",
    "h_index = df.authorHIndex.max()\n",
    "h_index"
   ]
  },
  {
   "cell_type": "code",
   "execution_count": 15,
   "metadata": {},
   "outputs": [
    {
     "data": {
      "text/plain": [
       "'SPAE: Semantic Pyramid AutoEncoder for Multimodal Generation with Frozen LLMs'"
      ]
     },
     "execution_count": 15,
     "metadata": {},
     "output_type": "execute_result"
    }
   ],
   "source": [
    "# What is the most cited paper from this faculty member?\n",
    "most_cited_paper = df.loc[df['citationCount'].idxmax()]['title']\n",
    "most_cited_paper"
   ]
  },
  {
   "cell_type": "code",
   "execution_count": 16,
   "metadata": {},
   "outputs": [
    {
     "data": {
      "text/plain": [
       "('SPAE: Semantic Pyramid AutoEncoder for Multimodal Generation with Frozen LLMs',\n",
       " 'http://arxiv.org/pdf/2306.17842')"
      ]
     },
     "execution_count": 16,
     "metadata": {},
     "output_type": "execute_result"
    }
   ],
   "source": [
    "# What is the most cited paper from this faculty member and its URL?\n",
    "most_cited_paper = df.loc[df['citationCount'].idxmax()]['title']\n",
    "most_cited_url = list(df.loc[df['citationCount'].idxmax()]['openAccessPdf'].values())[0]\n",
    "most_cited_paper, most_cited_url"
   ]
  },
  {
   "cell_type": "code",
   "execution_count": 17,
   "metadata": {},
   "outputs": [
    {
     "data": {
      "text/plain": [
       "['Lijun Yu',\n",
       " 'Yong Cheng',\n",
       " 'Zhiruo Wang',\n",
       " 'Vivek Kumar',\n",
       " 'Wolfgang Macherey',\n",
       " 'Yanping Huang',\n",
       " 'David A. Ross',\n",
       " 'Irfan Essa',\n",
       " 'Yonatan Bisk',\n",
       " 'Ming Yang',\n",
       " 'K. Murphy',\n",
       " 'A. Hauptmann',\n",
       " 'Lu Jiang']"
      ]
     },
     "execution_count": 17,
     "metadata": {},
     "output_type": "execute_result"
    }
   ],
   "source": [
    "# Who are the authors of the most cited paper?\n",
    "most_cited_authors = df.loc[df['citationCount'].idxmax()]['authors']\n",
    "author_names = [author['name'] for author in most_cited_authors]\n",
    "author_names"
   ]
  },
  {
   "cell_type": "code",
   "execution_count": 18,
   "metadata": {},
   "outputs": [
    {
     "data": {
      "text/plain": [
       "'Lijun Yu'"
      ]
     },
     "execution_count": 18,
     "metadata": {},
     "output_type": "execute_result"
    }
   ],
   "source": [
    "# who is the first author of this paper?\n",
    "most_cited_authors = df.loc[df['citationCount'].idxmax()]['authors']\n",
    "author_names = [author['name'] for author in most_cited_authors]\n",
    "author_names[0]"
   ]
  },
  {
   "cell_type": "code",
   "execution_count": 19,
   "metadata": {},
   "outputs": [
    {
     "data": {
      "text/plain": [
       "['Lijun Yu',\n",
       " 'Yong Cheng',\n",
       " 'Zhiruo Wang',\n",
       " 'Vivek Kumar',\n",
       " 'Wolfgang Macherey',\n",
       " 'Yanping Huang',\n",
       " 'David A. Ross',\n",
       " 'Irfan Essa',\n",
       " 'Yonatan Bisk',\n",
       " 'Ming Yang',\n",
       " 'K. Murphy',\n",
       " 'A. Hauptmann',\n",
       " 'Lu Jiang']"
      ]
     },
     "execution_count": 19,
     "metadata": {},
     "output_type": "execute_result"
    }
   ],
   "source": [
    "# Who are the authors of the paper [title]?\n",
    "title = 'SPAE: Semantic Pyramid AutoEncoder for Multimodal Generation with Frozen LLMs'\n",
    "author_names = df[df['title']==title]['authors']\n",
    "author_names = [author['name'] for author in most_cited_authors]\n",
    "author_names\n"
   ]
  },
  {
   "cell_type": "code",
   "execution_count": 20,
   "metadata": {},
   "outputs": [
    {
     "data": {
      "text/plain": [
       "15"
      ]
     },
     "execution_count": 20,
     "metadata": {},
     "output_type": "execute_result"
    }
   ],
   "source": [
    "total_citations = df['citationCount'].sum()\n",
    "total_citations"
   ]
  },
  {
   "cell_type": "code",
   "execution_count": 21,
   "metadata": {},
   "outputs": [
    {
     "data": {
      "text/plain": [
       "'Annual Meeting of the Association for Computational Linguistics, Computer Vision and Pattern Recognition, Conference on Empirical Methods in Natural Language Processing'"
      ]
     },
     "execution_count": 21,
     "metadata": {},
     "output_type": "execute_result"
    }
   ],
   "source": [
    "# Filter the DataFrame to exclude 'arXiv.org' from venues and get the unique venues\n",
    "conferences_last_year = df[df['venue'] != 'arXiv.org']['venue'].unique()\n",
    "conferences_string = ', '.join(conferences_last_year)\n",
    "conferences_string"
   ]
  },
  {
   "cell_type": "code",
   "execution_count": 22,
   "metadata": {},
   "outputs": [
    {
     "data": {
      "text/plain": [
       "5"
      ]
     },
     "execution_count": 22,
     "metadata": {},
     "output_type": "execute_result"
    }
   ],
   "source": [
    "# How many papers has this faculty member published in open access journals?\n",
    "open_access_papers = df[df['isOpenAccess'] == True].shape[0]\n",
    "open_access_papers"
   ]
  },
  {
   "cell_type": "code",
   "execution_count": 23,
   "metadata": {},
   "outputs": [
    {
     "data": {
      "text/plain": [
       "'ArXiv, 2023 IEEE/CVF Conference on Computer Vision and Pattern Recognition (CVPR)'"
      ]
     },
     "execution_count": 23,
     "metadata": {},
     "output_type": "execute_result"
    }
   ],
   "source": [
    "# Since the journals array contains None, we need to filter out None values before joining\n",
    "# Filter out None values from the journals array and then join\n",
    "journals_filtered = [journal for journal in df['journal'].apply(lambda x: x.get('name') if isinstance(x, dict) else None).unique() if journal is not None]\n",
    "journals_string = ', '.join(journals_filtered)\n",
    "journals_string"
   ]
  },
  {
   "cell_type": "code",
   "execution_count": 24,
   "metadata": {},
   "outputs": [
    {
     "data": {
      "text/plain": [
       "'Conference on Empirical Methods in Natural Language Processing'"
      ]
     },
     "execution_count": 24,
     "metadata": {},
     "output_type": "execute_result"
    }
   ],
   "source": [
    "# Which venue was this paper published in?\n",
    "paper_title = 'DocumentNet: Bridging the Data Gap in Document Pre-training'\n",
    "venue = df[df['title'] == paper_title]['venue'].values[0]\n",
    "venue"
   ]
  },
  {
   "cell_type": "code",
   "execution_count": 26,
   "metadata": {},
   "outputs": [
    {
     "data": {
      "text/plain": [
       "'Zero-Shot and Few-Shot Stance Detection on Varied Topics via Conditional Generation'"
      ]
     },
     "execution_count": 26,
     "metadata": {},
     "output_type": "execute_result"
    }
   ],
   "source": [
    "df.title[1]"
   ]
  },
  {
   "cell_type": "code",
   "execution_count": 32,
   "metadata": {},
   "outputs": [
    {
     "data": {
      "text/plain": [
       "0    Towards Open-Domain Twitter User Profile Infer...\n",
       "1    Zero-Shot and Few-Shot Stance Detection on Var...\n",
       "2    SPAE: Semantic Pyramid AutoEncoder for Multimo...\n",
       "3    STMT: A Spatial-Temporal Mesh Transformer for ...\n",
       "4    DocumentNet: Bridging the Data Gap in Document...\n",
       "Name: title, dtype: object"
      ]
     },
     "execution_count": 32,
     "metadata": {},
     "output_type": "execute_result"
    }
   ],
   "source": [
    "df.title"
   ]
  },
  {
   "cell_type": "code",
   "execution_count": 39,
   "metadata": {},
   "outputs": [
    {
     "data": {
      "text/plain": [
       "'arXiv.org'"
      ]
     },
     "execution_count": 39,
     "metadata": {},
     "output_type": "execute_result"
    }
   ],
   "source": [
    "# Which venue was this paper published in?\n",
    "venue = df[df['title'] == df.title[2]]['venue'].values[0]\n",
    "venue"
   ]
  },
  {
   "cell_type": "code",
   "execution_count": 34,
   "metadata": {},
   "outputs": [
    {
     "data": {
      "text/plain": [
       "'arXiv.org'"
      ]
     },
     "execution_count": 34,
     "metadata": {},
     "output_type": "execute_result"
    }
   ],
   "source": [
    "title = 'SPAE: Semantic Pyramid AutoEncoder for Multimodal Generation with Frozen LLMs'\n",
    "# Which venue was this paper published in?\n",
    "paper_title = title\n",
    "venue = df[df['title'] == paper_title]['venue'].values[0]\n",
    "venue"
   ]
  },
  {
   "cell_type": "code",
   "execution_count": null,
   "metadata": {},
   "outputs": [],
   "source": []
  }
 ],
 "metadata": {
  "kernelspec": {
   "display_name": "llama_hw",
   "language": "python",
   "name": "python3"
  },
  "language_info": {
   "codemirror_mode": {
    "name": "ipython",
    "version": 3
   },
   "file_extension": ".py",
   "mimetype": "text/x-python",
   "name": "python",
   "nbconvert_exporter": "python",
   "pygments_lexer": "ipython3",
   "version": "3.11.7"
  }
 },
 "nbformat": 4,
 "nbformat_minor": 2
}
